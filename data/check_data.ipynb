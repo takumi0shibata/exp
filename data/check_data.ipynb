{
 "cells": [
  {
   "cell_type": "code",
   "execution_count": 17,
   "id": "e8d14fda",
   "metadata": {},
   "outputs": [],
   "source": [
    "import polars as pl"
   ]
  },
  {
   "cell_type": "code",
   "execution_count": 18,
   "id": "ba02b2e0",
   "metadata": {},
   "outputs": [
    {
     "data": {
      "text/html": [
       "<div><style>\n",
       ".dataframe > thead > tr,\n",
       ".dataframe > tbody > tr {\n",
       "  text-align: right;\n",
       "  white-space: pre-wrap;\n",
       "}\n",
       "</style>\n",
       "<small>shape: (12_978, 28)</small><table border=\"1\" class=\"dataframe\"><thead><tr><th>essay_id</th><th>essay_set</th><th>essay</th><th>rater1_domain1</th><th>rater2_domain1</th><th>rater3_domain1</th><th>domain1_score</th><th>rater1_domain2</th><th>rater2_domain2</th><th>domain2_score</th><th>rater1_trait1</th><th>rater1_trait2</th><th>rater1_trait3</th><th>rater1_trait4</th><th>rater1_trait5</th><th>rater1_trait6</th><th>rater2_trait1</th><th>rater2_trait2</th><th>rater2_trait3</th><th>rater2_trait4</th><th>rater2_trait5</th><th>rater2_trait6</th><th>rater3_trait1</th><th>rater3_trait2</th><th>rater3_trait3</th><th>rater3_trait4</th><th>rater3_trait5</th><th>rater3_trait6</th></tr><tr><td>i64</td><td>i64</td><td>str</td><td>i64</td><td>i64</td><td>i64</td><td>i64</td><td>i64</td><td>i64</td><td>i64</td><td>i64</td><td>i64</td><td>i64</td><td>i64</td><td>i64</td><td>i64</td><td>i64</td><td>i64</td><td>i64</td><td>i64</td><td>i64</td><td>i64</td><td>i64</td><td>i64</td><td>i64</td><td>i64</td><td>i64</td><td>i64</td></tr></thead><tbody><tr><td>1</td><td>1</td><td>&quot;Dear local newspaper, I think …</td><td>4</td><td>4</td><td>null</td><td>8</td><td>null</td><td>null</td><td>null</td><td>null</td><td>null</td><td>null</td><td>null</td><td>null</td><td>null</td><td>null</td><td>null</td><td>null</td><td>null</td><td>null</td><td>null</td><td>null</td><td>null</td><td>null</td><td>null</td><td>null</td><td>null</td></tr><tr><td>2</td><td>1</td><td>&quot;Dear @CAPS1 @CAPS2, I believe …</td><td>5</td><td>4</td><td>null</td><td>9</td><td>null</td><td>null</td><td>null</td><td>null</td><td>null</td><td>null</td><td>null</td><td>null</td><td>null</td><td>null</td><td>null</td><td>null</td><td>null</td><td>null</td><td>null</td><td>null</td><td>null</td><td>null</td><td>null</td><td>null</td><td>null</td></tr><tr><td>3</td><td>1</td><td>&quot;Dear, @CAPS1 @CAPS2 @CAPS3 Mor…</td><td>4</td><td>3</td><td>null</td><td>7</td><td>null</td><td>null</td><td>null</td><td>null</td><td>null</td><td>null</td><td>null</td><td>null</td><td>null</td><td>null</td><td>null</td><td>null</td><td>null</td><td>null</td><td>null</td><td>null</td><td>null</td><td>null</td><td>null</td><td>null</td><td>null</td></tr><tr><td>4</td><td>1</td><td>&quot;Dear Local Newspaper, @CAPS1 I…</td><td>5</td><td>5</td><td>null</td><td>10</td><td>null</td><td>null</td><td>null</td><td>null</td><td>null</td><td>null</td><td>null</td><td>null</td><td>null</td><td>null</td><td>null</td><td>null</td><td>null</td><td>null</td><td>null</td><td>null</td><td>null</td><td>null</td><td>null</td><td>null</td><td>null</td></tr><tr><td>5</td><td>1</td><td>&quot;Dear @LOCATION1, I know having…</td><td>4</td><td>4</td><td>null</td><td>8</td><td>null</td><td>null</td><td>null</td><td>null</td><td>null</td><td>null</td><td>null</td><td>null</td><td>null</td><td>null</td><td>null</td><td>null</td><td>null</td><td>null</td><td>null</td><td>null</td><td>null</td><td>null</td><td>null</td><td>null</td><td>null</td></tr><tr><td>&hellip;</td><td>&hellip;</td><td>&hellip;</td><td>&hellip;</td><td>&hellip;</td><td>&hellip;</td><td>&hellip;</td><td>&hellip;</td><td>&hellip;</td><td>&hellip;</td><td>&hellip;</td><td>&hellip;</td><td>&hellip;</td><td>&hellip;</td><td>&hellip;</td><td>&hellip;</td><td>&hellip;</td><td>&hellip;</td><td>&hellip;</td><td>&hellip;</td><td>&hellip;</td><td>&hellip;</td><td>&hellip;</td><td>&hellip;</td><td>&hellip;</td><td>&hellip;</td><td>&hellip;</td><td>&hellip;</td></tr><tr><td>21626</td><td>8</td><td>&quot; In most stories mothers and d…</td><td>17</td><td>18</td><td>null</td><td>35</td><td>null</td><td>null</td><td>null</td><td>4</td><td>3</td><td>4</td><td>4</td><td>4</td><td>3</td><td>4</td><td>4</td><td>4</td><td>4</td><td>4</td><td>3</td><td>null</td><td>null</td><td>null</td><td>null</td><td>null</td><td>null</td></tr><tr><td>21628</td><td>8</td><td>&quot; I never understood the meanin…</td><td>15</td><td>17</td><td>null</td><td>32</td><td>null</td><td>null</td><td>null</td><td>3</td><td>3</td><td>4</td><td>3</td><td>3</td><td>3</td><td>4</td><td>3</td><td>4</td><td>4</td><td>4</td><td>3</td><td>null</td><td>null</td><td>null</td><td>null</td><td>null</td><td>null</td></tr><tr><td>21629</td><td>8</td><td>&quot;When you laugh, is @CAPS5 out …</td><td>20</td><td>26</td><td>40</td><td>40</td><td>null</td><td>null</td><td>null</td><td>4</td><td>4</td><td>4</td><td>4</td><td>4</td><td>4</td><td>6</td><td>5</td><td>5</td><td>5</td><td>5</td><td>5</td><td>4</td><td>4</td><td>4</td><td>4</td><td>4</td><td>4</td></tr><tr><td>21630</td><td>8</td><td>&quot;&nbsp;&nbsp;&nbsp;&nbsp;&nbsp;&nbsp;&nbsp;&nbsp;&nbsp;&nbsp;&nbsp;&nbsp;&nbsp;&nbsp;&nbsp;&nbsp;&nbsp;&nbsp;&nbsp;&nbsp;&nbsp;&nbsp;&nbsp;&nbsp;&nbsp;&nbsp;&nbsp;&nbsp;&nbsp;&nbsp;…</td><td>20</td><td>20</td><td>null</td><td>40</td><td>null</td><td>null</td><td>null</td><td>4</td><td>4</td><td>4</td><td>4</td><td>4</td><td>4</td><td>4</td><td>4</td><td>4</td><td>4</td><td>4</td><td>4</td><td>null</td><td>null</td><td>null</td><td>null</td><td>null</td><td>null</td></tr><tr><td>21633</td><td>8</td><td>&quot; Many people believe that laug…</td><td>20</td><td>20</td><td>null</td><td>40</td><td>null</td><td>null</td><td>null</td><td>4</td><td>4</td><td>4</td><td>4</td><td>4</td><td>4</td><td>4</td><td>4</td><td>4</td><td>4</td><td>4</td><td>4</td><td>null</td><td>null</td><td>null</td><td>null</td><td>null</td><td>null</td></tr></tbody></table></div>"
      ],
      "text/plain": [
       "shape: (12_978, 28)\n",
       "┌──────────┬───────────┬───────────┬───────────┬───┬───────────┬───────────┬───────────┬───────────┐\n",
       "│ essay_id ┆ essay_set ┆ essay     ┆ rater1_do ┆ … ┆ rater3_tr ┆ rater3_tr ┆ rater3_tr ┆ rater3_tr │\n",
       "│ ---      ┆ ---       ┆ ---       ┆ main1     ┆   ┆ ait3      ┆ ait4      ┆ ait5      ┆ ait6      │\n",
       "│ i64      ┆ i64       ┆ str       ┆ ---       ┆   ┆ ---       ┆ ---       ┆ ---       ┆ ---       │\n",
       "│          ┆           ┆           ┆ i64       ┆   ┆ i64       ┆ i64       ┆ i64       ┆ i64       │\n",
       "╞══════════╪═══════════╪═══════════╪═══════════╪═══╪═══════════╪═══════════╪═══════════╪═══════════╡\n",
       "│ 1        ┆ 1         ┆ Dear      ┆ 4         ┆ … ┆ null      ┆ null      ┆ null      ┆ null      │\n",
       "│          ┆           ┆ local new ┆           ┆   ┆           ┆           ┆           ┆           │\n",
       "│          ┆           ┆ spaper, I ┆           ┆   ┆           ┆           ┆           ┆           │\n",
       "│          ┆           ┆ think …   ┆           ┆   ┆           ┆           ┆           ┆           │\n",
       "│ 2        ┆ 1         ┆ Dear      ┆ 5         ┆ … ┆ null      ┆ null      ┆ null      ┆ null      │\n",
       "│          ┆           ┆ @CAPS1    ┆           ┆   ┆           ┆           ┆           ┆           │\n",
       "│          ┆           ┆ @CAPS2, I ┆           ┆   ┆           ┆           ┆           ┆           │\n",
       "│          ┆           ┆ believe … ┆           ┆   ┆           ┆           ┆           ┆           │\n",
       "│ 3        ┆ 1         ┆ Dear,     ┆ 4         ┆ … ┆ null      ┆ null      ┆ null      ┆ null      │\n",
       "│          ┆           ┆ @CAPS1    ┆           ┆   ┆           ┆           ┆           ┆           │\n",
       "│          ┆           ┆ @CAPS2    ┆           ┆   ┆           ┆           ┆           ┆           │\n",
       "│          ┆           ┆ @CAPS3    ┆           ┆   ┆           ┆           ┆           ┆           │\n",
       "│          ┆           ┆ Mor…      ┆           ┆   ┆           ┆           ┆           ┆           │\n",
       "│ 4        ┆ 1         ┆ Dear      ┆ 5         ┆ … ┆ null      ┆ null      ┆ null      ┆ null      │\n",
       "│          ┆           ┆ Local New ┆           ┆   ┆           ┆           ┆           ┆           │\n",
       "│          ┆           ┆ spaper,   ┆           ┆   ┆           ┆           ┆           ┆           │\n",
       "│          ┆           ┆ @CAPS1 I… ┆           ┆   ┆           ┆           ┆           ┆           │\n",
       "│ 5        ┆ 1         ┆ Dear @LOC ┆ 4         ┆ … ┆ null      ┆ null      ┆ null      ┆ null      │\n",
       "│          ┆           ┆ ATION1, I ┆           ┆   ┆           ┆           ┆           ┆           │\n",
       "│          ┆           ┆ know      ┆           ┆   ┆           ┆           ┆           ┆           │\n",
       "│          ┆           ┆ having…   ┆           ┆   ┆           ┆           ┆           ┆           │\n",
       "│ …        ┆ …         ┆ …         ┆ …         ┆ … ┆ …         ┆ …         ┆ …         ┆ …         │\n",
       "│ 21626    ┆ 8         ┆ In most   ┆ 17        ┆ … ┆ null      ┆ null      ┆ null      ┆ null      │\n",
       "│          ┆           ┆ stories   ┆           ┆   ┆           ┆           ┆           ┆           │\n",
       "│          ┆           ┆ mothers   ┆           ┆   ┆           ┆           ┆           ┆           │\n",
       "│          ┆           ┆ and d…    ┆           ┆   ┆           ┆           ┆           ┆           │\n",
       "│ 21628    ┆ 8         ┆ I never   ┆ 15        ┆ … ┆ null      ┆ null      ┆ null      ┆ null      │\n",
       "│          ┆           ┆ understoo ┆           ┆   ┆           ┆           ┆           ┆           │\n",
       "│          ┆           ┆ d the     ┆           ┆   ┆           ┆           ┆           ┆           │\n",
       "│          ┆           ┆ meanin…   ┆           ┆   ┆           ┆           ┆           ┆           │\n",
       "│ 21629    ┆ 8         ┆ When you  ┆ 20        ┆ … ┆ 4         ┆ 4         ┆ 4         ┆ 4         │\n",
       "│          ┆           ┆ laugh, is ┆           ┆   ┆           ┆           ┆           ┆           │\n",
       "│          ┆           ┆ @CAPS5    ┆           ┆   ┆           ┆           ┆           ┆           │\n",
       "│          ┆           ┆ out …     ┆           ┆   ┆           ┆           ┆           ┆           │\n",
       "│ 21630    ┆ 8         ┆ …         ┆ 20        ┆ … ┆ null      ┆ null      ┆ null      ┆ null      │\n",
       "│ 21633    ┆ 8         ┆ Many      ┆ 20        ┆ … ┆ null      ┆ null      ┆ null      ┆ null      │\n",
       "│          ┆           ┆ people    ┆           ┆   ┆           ┆           ┆           ┆           │\n",
       "│          ┆           ┆ believe   ┆           ┆   ┆           ┆           ┆           ┆           │\n",
       "│          ┆           ┆ that      ┆           ┆   ┆           ┆           ┆           ┆           │\n",
       "│          ┆           ┆ laug…     ┆           ┆   ┆           ┆           ┆           ┆           │\n",
       "└──────────┴───────────┴───────────┴───────────┴───┴───────────┴───────────┴───────────┴───────────┘"
      ]
     },
     "execution_count": 18,
     "metadata": {},
     "output_type": "execute_result"
    }
   ],
   "source": [
    "df = pl.read_excel('training_set_rel3.xlsx', infer_schema_length=15000)\n",
    "df"
   ]
  },
  {
   "cell_type": "code",
   "execution_count": 19,
   "id": "c3ef6c5d",
   "metadata": {},
   "outputs": [
    {
     "data": {
      "text/html": [
       "<div><style>\n",
       ".dataframe > thead > tr,\n",
       ".dataframe > tbody > tr {\n",
       "  text-align: right;\n",
       "  white-space: pre-wrap;\n",
       "}\n",
       "</style>\n",
       "<small>shape: (1_569, 5)</small><table border=\"1\" class=\"dataframe\"><thead><tr><th>essay_id</th><th>Content</th><th>Organization</th><th>Style</th><th>Conventions</th></tr><tr><td>i64</td><td>i64</td><td>i64</td><td>i64</td><td>i64</td></tr></thead><tbody><tr><td>17834</td><td>2</td><td>4</td><td>4</td><td>5</td></tr><tr><td>17836</td><td>3</td><td>3</td><td>4</td><td>3</td></tr><tr><td>17837</td><td>3</td><td>4</td><td>4</td><td>4</td></tr><tr><td>17838</td><td>4</td><td>4</td><td>4</td><td>5</td></tr><tr><td>17839</td><td>2</td><td>4</td><td>3</td><td>4</td></tr><tr><td>&hellip;</td><td>&hellip;</td><td>&hellip;</td><td>&hellip;</td><td>&hellip;</td></tr><tr><td>19558</td><td>3</td><td>4</td><td>3</td><td>2</td></tr><tr><td>19559</td><td>2</td><td>4</td><td>4</td><td>6</td></tr><tr><td>19561</td><td>5</td><td>5</td><td>4</td><td>5</td></tr><tr><td>19562</td><td>5</td><td>6</td><td>5</td><td>6</td></tr><tr><td>19563</td><td>4</td><td>3</td><td>4</td><td>4</td></tr></tbody></table></div>"
      ],
      "text/plain": [
       "shape: (1_569, 5)\n",
       "┌──────────┬─────────┬──────────────┬───────┬─────────────┐\n",
       "│ essay_id ┆ Content ┆ Organization ┆ Style ┆ Conventions │\n",
       "│ ---      ┆ ---     ┆ ---          ┆ ---   ┆ ---         │\n",
       "│ i64      ┆ i64     ┆ i64          ┆ i64   ┆ i64         │\n",
       "╞══════════╪═════════╪══════════════╪═══════╪═════════════╡\n",
       "│ 17834    ┆ 2       ┆ 4            ┆ 4     ┆ 5           │\n",
       "│ 17836    ┆ 3       ┆ 3            ┆ 4     ┆ 3           │\n",
       "│ 17837    ┆ 3       ┆ 4            ┆ 4     ┆ 4           │\n",
       "│ 17838    ┆ 4       ┆ 4            ┆ 4     ┆ 5           │\n",
       "│ 17839    ┆ 2       ┆ 4            ┆ 3     ┆ 4           │\n",
       "│ …        ┆ …       ┆ …            ┆ …     ┆ …           │\n",
       "│ 19558    ┆ 3       ┆ 4            ┆ 3     ┆ 2           │\n",
       "│ 19559    ┆ 2       ┆ 4            ┆ 4     ┆ 6           │\n",
       "│ 19561    ┆ 5       ┆ 5            ┆ 4     ┆ 5           │\n",
       "│ 19562    ┆ 5       ┆ 6            ┆ 5     ┆ 6           │\n",
       "│ 19563    ┆ 4       ┆ 3            ┆ 4     ┆ 4           │\n",
       "└──────────┴─────────┴──────────────┴───────┴─────────────┘"
      ]
     },
     "execution_count": 19,
     "metadata": {},
     "output_type": "execute_result"
    }
   ],
   "source": [
    "df_7 = df.filter(pl.col('essay_set') == 7)\n",
    "df_7 = df_7.with_columns(\n",
    "    (pl.col('rater1_trait1') + pl.col('rater2_trait1')).alias('Content'), # ルーブリック上はIdeasだが，Contentとして扱う\n",
    "    (pl.col('rater1_trait2') + pl.col('rater2_trait2')).alias('Organization'),\n",
    "    (pl.col('rater1_trait3') + pl.col('rater2_trait3')).alias('Style'),\n",
    "    (pl.col('rater1_trait4') + pl.col('rater2_trait4')).alias('Conventions'),\n",
    ")\n",
    "df_7 = df_7.select(['essay_id', 'Content', 'Organization', 'Style', 'Conventions'])\n",
    "df_7"
   ]
  },
  {
   "cell_type": "code",
   "execution_count": 20,
   "id": "31b22ee9",
   "metadata": {},
   "outputs": [
    {
     "data": {
      "text/html": [
       "<div><style>\n",
       ".dataframe > thead > tr,\n",
       ".dataframe > tbody > tr {\n",
       "  text-align: right;\n",
       "  white-space: pre-wrap;\n",
       "}\n",
       "</style>\n",
       "<small>shape: (723, 7)</small><table border=\"1\" class=\"dataframe\"><thead><tr><th>essay_id</th><th>Content</th><th>Organization</th><th>Voice</th><th>Word Choice</th><th>Sentence Fluency</th><th>Conventions</th></tr><tr><td>i64</td><td>i64</td><td>i64</td><td>i64</td><td>i64</td><td>i64</td><td>i64</td></tr></thead><tbody><tr><td>20716</td><td>7</td><td>8</td><td>8</td><td>8</td><td>7</td><td>6</td></tr><tr><td>20717</td><td>10</td><td>10</td><td>10</td><td>10</td><td>10</td><td>8</td></tr><tr><td>20718</td><td>8</td><td>8</td><td>8</td><td>8</td><td>8</td><td>8</td></tr><tr><td>20719</td><td>6</td><td>6</td><td>6</td><td>6</td><td>6</td><td>6</td></tr><tr><td>20721</td><td>6</td><td>5</td><td>6</td><td>6</td><td>5</td><td>5</td></tr><tr><td>&hellip;</td><td>&hellip;</td><td>&hellip;</td><td>&hellip;</td><td>&hellip;</td><td>&hellip;</td><td>&hellip;</td></tr><tr><td>21626</td><td>8</td><td>7</td><td>8</td><td>8</td><td>8</td><td>6</td></tr><tr><td>21628</td><td>7</td><td>6</td><td>8</td><td>7</td><td>7</td><td>6</td></tr><tr><td>21629</td><td>8</td><td>8</td><td>8</td><td>8</td><td>8</td><td>8</td></tr><tr><td>21630</td><td>8</td><td>8</td><td>8</td><td>8</td><td>8</td><td>8</td></tr><tr><td>21633</td><td>8</td><td>8</td><td>8</td><td>8</td><td>8</td><td>8</td></tr></tbody></table></div>"
      ],
      "text/plain": [
       "shape: (723, 7)\n",
       "┌──────────┬─────────┬──────────────┬───────┬─────────────┬──────────────────┬─────────────┐\n",
       "│ essay_id ┆ Content ┆ Organization ┆ Voice ┆ Word Choice ┆ Sentence Fluency ┆ Conventions │\n",
       "│ ---      ┆ ---     ┆ ---          ┆ ---   ┆ ---         ┆ ---              ┆ ---         │\n",
       "│ i64      ┆ i64     ┆ i64          ┆ i64   ┆ i64         ┆ i64              ┆ i64         │\n",
       "╞══════════╪═════════╪══════════════╪═══════╪═════════════╪══════════════════╪═════════════╡\n",
       "│ 20716    ┆ 7       ┆ 8            ┆ 8     ┆ 8           ┆ 7                ┆ 6           │\n",
       "│ 20717    ┆ 10      ┆ 10           ┆ 10    ┆ 10          ┆ 10               ┆ 8           │\n",
       "│ 20718    ┆ 8       ┆ 8            ┆ 8     ┆ 8           ┆ 8                ┆ 8           │\n",
       "│ 20719    ┆ 6       ┆ 6            ┆ 6     ┆ 6           ┆ 6                ┆ 6           │\n",
       "│ 20721    ┆ 6       ┆ 5            ┆ 6     ┆ 6           ┆ 5                ┆ 5           │\n",
       "│ …        ┆ …       ┆ …            ┆ …     ┆ …           ┆ …                ┆ …           │\n",
       "│ 21626    ┆ 8       ┆ 7            ┆ 8     ┆ 8           ┆ 8                ┆ 6           │\n",
       "│ 21628    ┆ 7       ┆ 6            ┆ 8     ┆ 7           ┆ 7                ┆ 6           │\n",
       "│ 21629    ┆ 8       ┆ 8            ┆ 8     ┆ 8           ┆ 8                ┆ 8           │\n",
       "│ 21630    ┆ 8       ┆ 8            ┆ 8     ┆ 8           ┆ 8                ┆ 8           │\n",
       "│ 21633    ┆ 8       ┆ 8            ┆ 8     ┆ 8           ┆ 8                ┆ 8           │\n",
       "└──────────┴─────────┴──────────────┴───────┴─────────────┴──────────────────┴─────────────┘"
      ]
     },
     "execution_count": 20,
     "metadata": {},
     "output_type": "execute_result"
    }
   ],
   "source": [
    "df_8 = df.filter(pl.col('essay_set') == 8)\n",
    "df_8 = df_8.with_columns([\n",
    "    pl.when(pl.col(\"rater3_trait1\").is_null())\n",
    "      .then(pl.col(f\"rater1_trait{i+1}\") + pl.col(f\"rater2_trait{i+1}\"))\n",
    "      .otherwise(pl.col(f\"rater3_trait{i+1}\") * 2)\n",
    "      .alias(trait)\n",
    "    for i, trait in enumerate(['Content', 'Organization', 'Voice', 'Word Choice', 'Sentence Fluency', 'Conventions'])\n",
    "])\n",
    "df_8 = df_8.select(['essay_id', 'Content', 'Organization', 'Voice', 'Word Choice', 'Sentence Fluency', 'Conventions'])\n",
    "df_8"
   ]
  },
  {
   "cell_type": "code",
   "execution_count": 6,
   "id": "1a9b3e28",
   "metadata": {},
   "outputs": [
    {
     "data": {
      "text/html": [
       "<div><style>\n",
       ".dataframe > thead > tr,\n",
       ".dataframe > tbody > tr {\n",
       "  text-align: right;\n",
       "  white-space: pre-wrap;\n",
       "}\n",
       "</style>\n",
       "<small>shape: (12_978, 11)</small><table border=\"1\" class=\"dataframe\"><thead><tr><th>essay_id</th><th>Content</th><th>Organization</th><th>Word Choice</th><th>Sentence Fluency</th><th>Conventions</th><th>Prompt Adherence</th><th>Language</th><th>Narrativity</th><th>Style</th><th>Voice</th></tr><tr><td>i64</td><td>i64</td><td>i64</td><td>i64</td><td>i64</td><td>i64</td><td>i64</td><td>i64</td><td>i64</td><td>i64</td><td>i64</td></tr></thead><tbody><tr><td>1</td><td>4</td><td>3</td><td>3</td><td>3</td><td>3</td><td>null</td><td>null</td><td>null</td><td>null</td><td>null</td></tr><tr><td>2</td><td>4</td><td>4</td><td>4</td><td>3</td><td>4</td><td>null</td><td>null</td><td>null</td><td>null</td><td>null</td></tr><tr><td>3</td><td>3</td><td>3</td><td>3</td><td>4</td><td>4</td><td>null</td><td>null</td><td>null</td><td>null</td><td>null</td></tr><tr><td>4</td><td>5</td><td>4</td><td>5</td><td>4</td><td>4</td><td>null</td><td>null</td><td>null</td><td>null</td><td>null</td></tr><tr><td>5</td><td>4</td><td>3</td><td>4</td><td>4</td><td>4</td><td>null</td><td>null</td><td>null</td><td>null</td><td>null</td></tr><tr><td>&hellip;</td><td>&hellip;</td><td>&hellip;</td><td>&hellip;</td><td>&hellip;</td><td>&hellip;</td><td>&hellip;</td><td>&hellip;</td><td>&hellip;</td><td>&hellip;</td><td>&hellip;</td></tr><tr><td>21626</td><td>8</td><td>7</td><td>8</td><td>8</td><td>6</td><td>null</td><td>null</td><td>null</td><td>null</td><td>8</td></tr><tr><td>21628</td><td>7</td><td>6</td><td>7</td><td>7</td><td>6</td><td>null</td><td>null</td><td>null</td><td>null</td><td>8</td></tr><tr><td>21629</td><td>8</td><td>8</td><td>8</td><td>8</td><td>8</td><td>null</td><td>null</td><td>null</td><td>null</td><td>8</td></tr><tr><td>21630</td><td>8</td><td>8</td><td>8</td><td>8</td><td>8</td><td>null</td><td>null</td><td>null</td><td>null</td><td>8</td></tr><tr><td>21633</td><td>8</td><td>8</td><td>8</td><td>8</td><td>8</td><td>null</td><td>null</td><td>null</td><td>null</td><td>8</td></tr></tbody></table></div>"
      ],
      "text/plain": [
       "shape: (12_978, 11)\n",
       "┌──────────┬─────────┬──────────────┬─────────────┬───┬──────────┬─────────────┬───────┬───────┐\n",
       "│ essay_id ┆ Content ┆ Organization ┆ Word Choice ┆ … ┆ Language ┆ Narrativity ┆ Style ┆ Voice │\n",
       "│ ---      ┆ ---     ┆ ---          ┆ ---         ┆   ┆ ---      ┆ ---         ┆ ---   ┆ ---   │\n",
       "│ i64      ┆ i64     ┆ i64          ┆ i64         ┆   ┆ i64      ┆ i64         ┆ i64   ┆ i64   │\n",
       "╞══════════╪═════════╪══════════════╪═════════════╪═══╪══════════╪═════════════╪═══════╪═══════╡\n",
       "│ 1        ┆ 4       ┆ 3            ┆ 3           ┆ … ┆ null     ┆ null        ┆ null  ┆ null  │\n",
       "│ 2        ┆ 4       ┆ 4            ┆ 4           ┆ … ┆ null     ┆ null        ┆ null  ┆ null  │\n",
       "│ 3        ┆ 3       ┆ 3            ┆ 3           ┆ … ┆ null     ┆ null        ┆ null  ┆ null  │\n",
       "│ 4        ┆ 5       ┆ 4            ┆ 5           ┆ … ┆ null     ┆ null        ┆ null  ┆ null  │\n",
       "│ 5        ┆ 4       ┆ 3            ┆ 4           ┆ … ┆ null     ┆ null        ┆ null  ┆ null  │\n",
       "│ …        ┆ …       ┆ …            ┆ …           ┆ … ┆ …        ┆ …           ┆ …     ┆ …     │\n",
       "│ 21626    ┆ 8       ┆ 7            ┆ 8           ┆ … ┆ null     ┆ null        ┆ null  ┆ 8     │\n",
       "│ 21628    ┆ 7       ┆ 6            ┆ 7           ┆ … ┆ null     ┆ null        ┆ null  ┆ 8     │\n",
       "│ 21629    ┆ 8       ┆ 8            ┆ 8           ┆ … ┆ null     ┆ null        ┆ null  ┆ 8     │\n",
       "│ 21630    ┆ 8       ┆ 8            ┆ 8           ┆ … ┆ null     ┆ null        ┆ null  ┆ 8     │\n",
       "│ 21633    ┆ 8       ┆ 8            ┆ 8           ┆ … ┆ null     ┆ null        ┆ null  ┆ 8     │\n",
       "└──────────┴─────────┴──────────────┴─────────────┴───┴──────────┴─────────────┴───────┴───────┘"
      ]
     },
     "execution_count": 6,
     "metadata": {},
     "output_type": "execute_result"
    }
   ],
   "source": [
    "dfs = [pl.read_csv(f'Prompt-{num}.csv', infer_schema_length=3000).rename({'Essay ID': 'essay_id'}) for num in range(1, 6+1)]\n",
    "dfs += [df_7, df_8]\n",
    "df_trait = pl.concat(dfs, how='diagonal')\n",
    "df_trait"
   ]
  },
  {
   "cell_type": "code",
   "execution_count": 21,
   "id": "9185d6f7",
   "metadata": {},
   "outputs": [
    {
     "data": {
      "text/html": [
       "<div><style>\n",
       ".dataframe > thead > tr,\n",
       ".dataframe > tbody > tr {\n",
       "  text-align: right;\n",
       "  white-space: pre-wrap;\n",
       "}\n",
       "</style>\n",
       "<small>shape: (12_979, 14)</small><table border=\"1\" class=\"dataframe\"><thead><tr><th>essay_id</th><th>essay_set</th><th>essay</th><th>overall</th><th>content</th><th>organization</th><th>word_choice</th><th>sentence_fluency</th><th>conventions</th><th>prompt_adherence</th><th>language</th><th>narrativity</th><th>style</th><th>voice</th></tr><tr><td>i64</td><td>i64</td><td>str</td><td>i64</td><td>i64</td><td>i64</td><td>i64</td><td>i64</td><td>i64</td><td>i64</td><td>i64</td><td>i64</td><td>i64</td><td>i64</td></tr></thead><tbody><tr><td>1</td><td>1</td><td>&quot;Dear local newspaper, I think …</td><td>8</td><td>4</td><td>3</td><td>3</td><td>3</td><td>3</td><td>null</td><td>null</td><td>null</td><td>null</td><td>null</td></tr><tr><td>2</td><td>1</td><td>&quot;Dear @CAPS1 @CAPS2, I believe …</td><td>9</td><td>4</td><td>4</td><td>4</td><td>3</td><td>4</td><td>null</td><td>null</td><td>null</td><td>null</td><td>null</td></tr><tr><td>3</td><td>1</td><td>&quot;Dear, @CAPS1 @CAPS2 @CAPS3 Mor…</td><td>7</td><td>3</td><td>3</td><td>3</td><td>4</td><td>4</td><td>null</td><td>null</td><td>null</td><td>null</td><td>null</td></tr><tr><td>4</td><td>1</td><td>&quot;Dear Local Newspaper, @CAPS1 I…</td><td>10</td><td>5</td><td>4</td><td>5</td><td>4</td><td>4</td><td>null</td><td>null</td><td>null</td><td>null</td><td>null</td></tr><tr><td>5</td><td>1</td><td>&quot;Dear @LOCATION1, I know having…</td><td>8</td><td>4</td><td>3</td><td>4</td><td>4</td><td>4</td><td>null</td><td>null</td><td>null</td><td>null</td><td>null</td></tr><tr><td>&hellip;</td><td>&hellip;</td><td>&hellip;</td><td>&hellip;</td><td>&hellip;</td><td>&hellip;</td><td>&hellip;</td><td>&hellip;</td><td>&hellip;</td><td>&hellip;</td><td>&hellip;</td><td>&hellip;</td><td>&hellip;</td><td>&hellip;</td></tr><tr><td>21626</td><td>8</td><td>&quot; In most stories mothers and d…</td><td>35</td><td>8</td><td>7</td><td>8</td><td>8</td><td>6</td><td>null</td><td>null</td><td>null</td><td>null</td><td>8</td></tr><tr><td>21628</td><td>8</td><td>&quot; I never understood the meanin…</td><td>32</td><td>7</td><td>6</td><td>7</td><td>7</td><td>6</td><td>null</td><td>null</td><td>null</td><td>null</td><td>8</td></tr><tr><td>21629</td><td>8</td><td>&quot;When you laugh, is @CAPS5 out …</td><td>40</td><td>8</td><td>8</td><td>8</td><td>8</td><td>8</td><td>null</td><td>null</td><td>null</td><td>null</td><td>8</td></tr><tr><td>21630</td><td>8</td><td>&quot;&nbsp;&nbsp;&nbsp;&nbsp;&nbsp;&nbsp;&nbsp;&nbsp;&nbsp;&nbsp;&nbsp;&nbsp;&nbsp;&nbsp;&nbsp;&nbsp;&nbsp;&nbsp;&nbsp;&nbsp;&nbsp;&nbsp;&nbsp;&nbsp;&nbsp;&nbsp;&nbsp;&nbsp;&nbsp;&nbsp;…</td><td>40</td><td>8</td><td>8</td><td>8</td><td>8</td><td>8</td><td>null</td><td>null</td><td>null</td><td>null</td><td>8</td></tr><tr><td>21633</td><td>8</td><td>&quot; Many people believe that laug…</td><td>40</td><td>8</td><td>8</td><td>8</td><td>8</td><td>8</td><td>null</td><td>null</td><td>null</td><td>null</td><td>8</td></tr></tbody></table></div>"
      ],
      "text/plain": [
       "shape: (12_979, 14)\n",
       "┌──────────┬───────────┬────────────────────┬─────────┬───┬──────────┬─────────────┬───────┬───────┐\n",
       "│ essay_id ┆ essay_set ┆ essay              ┆ overall ┆ … ┆ language ┆ narrativity ┆ style ┆ voice │\n",
       "│ ---      ┆ ---       ┆ ---                ┆ ---     ┆   ┆ ---      ┆ ---         ┆ ---   ┆ ---   │\n",
       "│ i64      ┆ i64       ┆ str                ┆ i64     ┆   ┆ i64      ┆ i64         ┆ i64   ┆ i64   │\n",
       "╞══════════╪═══════════╪════════════════════╪═════════╪═══╪══════════╪═════════════╪═══════╪═══════╡\n",
       "│ 1        ┆ 1         ┆ Dear local         ┆ 8       ┆ … ┆ null     ┆ null        ┆ null  ┆ null  │\n",
       "│          ┆           ┆ newspaper, I think ┆         ┆   ┆          ┆             ┆       ┆       │\n",
       "│          ┆           ┆ …                  ┆         ┆   ┆          ┆             ┆       ┆       │\n",
       "│ 2        ┆ 1         ┆ Dear @CAPS1        ┆ 9       ┆ … ┆ null     ┆ null        ┆ null  ┆ null  │\n",
       "│          ┆           ┆ @CAPS2, I believe  ┆         ┆   ┆          ┆             ┆       ┆       │\n",
       "│          ┆           ┆ …                  ┆         ┆   ┆          ┆             ┆       ┆       │\n",
       "│ 3        ┆ 1         ┆ Dear, @CAPS1       ┆ 7       ┆ … ┆ null     ┆ null        ┆ null  ┆ null  │\n",
       "│          ┆           ┆ @CAPS2 @CAPS3 Mor… ┆         ┆   ┆          ┆             ┆       ┆       │\n",
       "│ 4        ┆ 1         ┆ Dear Local         ┆ 10      ┆ … ┆ null     ┆ null        ┆ null  ┆ null  │\n",
       "│          ┆           ┆ Newspaper, @CAPS1  ┆         ┆   ┆          ┆             ┆       ┆       │\n",
       "│          ┆           ┆ I…                 ┆         ┆   ┆          ┆             ┆       ┆       │\n",
       "│ 5        ┆ 1         ┆ Dear @LOCATION1, I ┆ 8       ┆ … ┆ null     ┆ null        ┆ null  ┆ null  │\n",
       "│          ┆           ┆ know having…       ┆         ┆   ┆          ┆             ┆       ┆       │\n",
       "│ …        ┆ …         ┆ …                  ┆ …       ┆ … ┆ …        ┆ …           ┆ …     ┆ …     │\n",
       "│ 21626    ┆ 8         ┆ In most stories    ┆ 35      ┆ … ┆ null     ┆ null        ┆ null  ┆ 8     │\n",
       "│          ┆           ┆ mothers and d…     ┆         ┆   ┆          ┆             ┆       ┆       │\n",
       "│ 21628    ┆ 8         ┆ I never understood ┆ 32      ┆ … ┆ null     ┆ null        ┆ null  ┆ 8     │\n",
       "│          ┆           ┆ the meanin…        ┆         ┆   ┆          ┆             ┆       ┆       │\n",
       "│ 21629    ┆ 8         ┆ When you laugh, is ┆ 40      ┆ … ┆ null     ┆ null        ┆ null  ┆ 8     │\n",
       "│          ┆           ┆ @CAPS5 out …       ┆         ┆   ┆          ┆             ┆       ┆       │\n",
       "│ 21630    ┆ 8         ┆ …                  ┆ 40      ┆ … ┆ null     ┆ null        ┆ null  ┆ 8     │\n",
       "│ 21633    ┆ 8         ┆ Many people        ┆ 40      ┆ … ┆ null     ┆ null        ┆ null  ┆ 8     │\n",
       "│          ┆           ┆ believe that laug… ┆         ┆   ┆          ┆             ┆       ┆       │\n",
       "└──────────┴───────────┴────────────────────┴─────────┴───┴──────────┴─────────────┴───────┴───────┘"
      ]
     },
     "execution_count": 21,
     "metadata": {},
     "output_type": "execute_result"
    }
   ],
   "source": [
    "rename_map = {\n",
    "    'domain1_score': 'overall',\n",
    "    'Content': 'content',\n",
    "    'Organization': 'organization',\n",
    "    'Voice': 'voice',\n",
    "    'Word Choice': 'word_choice',\n",
    "    'Sentence Fluency': 'sentence_fluency',\n",
    "    'Conventions': 'conventions',\n",
    "    'Prompt Adherence': 'prompt_adherence',\n",
    "    'Language': 'language',\n",
    "    'Narrativity': 'narrativity',\n",
    "    'Style': 'style',\n",
    "}\n",
    "asap = df.select(['essay_id', 'essay_set', 'essay', 'domain1_score']).join(df_trait, on='essay_id', how='left')\n",
    "asap = asap.rename(rename_map)\n",
    "asap"
   ]
  },
  {
   "cell_type": "code",
   "execution_count": 7,
   "id": "00dc299b",
   "metadata": {},
   "outputs": [],
   "source": [
    "asap.write_csv('asap_with_traits.csv')"
   ]
  },
  {
   "cell_type": "markdown",
   "id": "3cc5312f",
   "metadata": {},
   "source": [
    "# Visualization"
   ]
  },
  {
   "cell_type": "code",
   "execution_count": 27,
   "id": "414f528e",
   "metadata": {},
   "outputs": [],
   "source": [
    "import polars as pl\n",
    "asap = pl.read_csv('asap_with_traits.csv', infer_schema_length=15000)"
   ]
  },
  {
   "cell_type": "code",
   "execution_count": 28,
   "id": "cc01e41a",
   "metadata": {},
   "outputs": [
    {
     "data": {
      "image/png": "[encoded data removed]",
      "text/plain": [
       "<Figure size 640x480 with 1 Axes>"
      ]
     },
     "metadata": {},
     "output_type": "display_data"
    }
   ],
   "source": [
    "ESSAY_SET = 7\n",
    "TRAIT = 'style'\n",
    "\n",
    "import seaborn as sns\n",
    "import matplotlib.pyplot as plt\n",
    "\n",
    "sns.countplot(data=asap.filter(pl.col('essay_set') == ESSAY_SET), x=TRAIT)\n",
    "plt.show()"
   ]
  },
  {
   "cell_type": "code",
   "execution_count": null,
   "id": "7d87f0b1",
   "metadata": {},
   "outputs": [],
   "source": []
  }
 ],
 "metadata": {
  "kernelspec": {
   "display_name": ".venv",
   "language": "python",
   "name": "python3"
  },
  "language_info": {
   "codemirror_mode": {
    "name": "ipython",
    "version": 3
   },
   "file_extension": ".py",
   "mimetype": "text/x-python",
   "name": "python",
   "nbconvert_exporter": "python",
   "pygments_lexer": "ipython3",
   "version": "3.11.11"
  }
 },
 "nbformat": 4,
 "nbformat_minor": 5
}
